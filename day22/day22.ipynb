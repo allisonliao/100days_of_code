{
 "cells": [
  {
   "cell_type": "markdown",
   "metadata": {},
   "source": [
    "# Day 22, 4.29.18"
   ]
  },
  {
   "cell_type": "markdown",
   "metadata": {},
   "source": [
    "Today I worked on two-dimensional arrays in snakify.org:"
   ]
  },
  {
   "cell_type": "markdown",
   "metadata": {},
   "source": [
    "## Maximum"
   ]
  },
  {
   "cell_type": "markdown",
   "metadata": {},
   "source": [
    "### Statement\n",
    "Given two integers representing the rows and columns (m×n), and subsequent m rows of n elements, find the index position of the maximum element and print two numbers representing the index (i×j) or the row number and the column number. If there exist multiple such elements in different rows, print the one with smaller row number. If there multiple such elements occur on the same row, output the smallest column number."
   ]
  },
  {
   "cell_type": "code",
   "execution_count": 1,
   "metadata": {},
   "outputs": [
    {
     "name": "stdout",
     "output_type": "stream",
     "text": [
      "3 4\n",
      "0 3 2 4\n",
      "2 3 5 5\n",
      "5 1 2 3\n",
      "1 2\n"
     ]
    }
   ],
   "source": [
    "n, m = [int(j) for j in input().split()]\n",
    "a = [[int(j) for j in input().split()] for i in range(n)]\n",
    "max_row = 0\n",
    "max_col = 0\n",
    "max = a[max_row][max_col]\n",
    "for i in range(n):\n",
    "    for j in range(m):\n",
    "        if max < a[i][j]:\n",
    "            max = a[i][j]\n",
    "            max_row = i\n",
    "            max_col = j\n",
    "print(max_row, max_col)"
   ]
  },
  {
   "cell_type": "markdown",
   "metadata": {},
   "source": [
    "## Snowflakes"
   ]
  },
  {
   "cell_type": "markdown",
   "metadata": {},
   "source": [
    "### Statement\n",
    "Given an odd number integer n, produce a two-dimensional array of size (n×n). Fill each element with a single character string of \".\" . Then fill the middle row, the middle column and the diagnals with the single character string of \"*\" (an image of a snow flake). Print the array elements in (n×n) rows and columns and separate the characters with a single space."
   ]
  },
  {
   "cell_type": "code",
   "execution_count": 2,
   "metadata": {},
   "outputs": [
    {
     "name": "stdout",
     "output_type": "stream",
     "text": [
      "5\n",
      "* . * . *\n",
      ". * * * .\n",
      "* * * * *\n",
      ". * * * .\n",
      "* . * . *\n"
     ]
    }
   ],
   "source": [
    "n = int(input())\n",
    "k = n // 2\n",
    "a = [['.'] * n for i in range(n)]\n",
    "for i in range(n):\n",
    "    a[k][i] = '*'\n",
    "    a[i][k] = '*'\n",
    "    a[i][i] = '*'\n",
    "    a[n-i-1][i] = '*'\n",
    "for row in a:\n",
    "    print(' '.join(row))"
   ]
  },
  {
   "cell_type": "markdown",
   "metadata": {},
   "source": [
    "## Chessboard"
   ]
  },
  {
   "cell_type": "markdown",
   "metadata": {},
   "source": [
    "### Statement\n",
    "Given two numbers n and m. Create a two-dimensional array of size (n×m) and populate it with the characters \".\" and \"*\" in a checkerboard pattern. The top left corner should have the character \".\" ."
   ]
  },
  {
   "cell_type": "code",
   "execution_count": 3,
   "metadata": {},
   "outputs": [
    {
     "name": "stdout",
     "output_type": "stream",
     "text": [
      "3 4\n",
      ". * . *\n",
      "* . * .\n",
      ". * . *\n"
     ]
    }
   ],
   "source": [
    "def chessboard(n, m):\n",
    "    if (n + m) % 2 == 0:\n",
    "        return '.'\n",
    "    else:\n",
    "        return '*'\n",
    "\n",
    "n, m = [int(j) for j in input().split()]\n",
    "a = [[chessboard(i, j) for j in range(m)] for i in range(n)]\n",
    "for row in a:\n",
    "    print(' '.join(row))"
   ]
  },
  {
   "cell_type": "markdown",
   "metadata": {},
   "source": [
    "## The Diagonal Parallel to the Main"
   ]
  },
  {
   "cell_type": "markdown",
   "metadata": {},
   "source": [
    "### Statement\n",
    "Given an integer n, produce a two-dimensional array of size (n×n) and complete it according to the following rules, and print with a single space between characters:\n",
    "On the main diagonal write 0 .\n",
    "On the diagonals adjacent to the main, write 1 .\n",
    "On the next adjacent diagonals write 2 and so forth.\n",
    "Print the elements of the resulting array."
   ]
  },
  {
   "cell_type": "code",
   "execution_count": 4,
   "metadata": {},
   "outputs": [
    {
     "name": "stdout",
     "output_type": "stream",
     "text": [
      "5\n",
      "0 1 2 3 4\n",
      "1 0 1 2 3\n",
      "2 1 0 1 2\n",
      "3 2 1 0 1\n",
      "4 3 2 1 0\n"
     ]
    }
   ],
   "source": [
    "n = int(input())\n",
    "a = [[abs(i - j) for j in range(n)] for i in range(n)]\n",
    "for row in a:\n",
    "    print(' '.join([str(i) for i in row]))"
   ]
  },
  {
   "cell_type": "markdown",
   "metadata": {},
   "source": [
    "## Side Diagonal"
   ]
  },
  {
   "cell_type": "markdown",
   "metadata": {},
   "source": [
    "### Statement\n",
    "Given an integer n, create a two-dimensional array of size (n×n) and populate it as follows, with spaces between each character:\n",
    "The positions on the minor diagonal (from the upper right to the lower left corner) receive 1 .\n",
    "The positions above this diagonal recieve 0 .\n",
    "The positions below the diagonal receive 2 .\n",
    "Print the elements of the resulting array."
   ]
  },
  {
   "cell_type": "code",
   "execution_count": 5,
   "metadata": {},
   "outputs": [
    {
     "name": "stdout",
     "output_type": "stream",
     "text": [
      "4\n",
      "0 0 0 1\n",
      "0 0 1 2\n",
      "0 1 2 2\n",
      "1 2 2 2\n"
     ]
    }
   ],
   "source": [
    "n = int(input())\n",
    "a = [0] * n\n",
    "a = [[0] * (n - i - 1) + [1] + [2] * i for i in range(n)]\n",
    "for row in a:\n",
    "    print(' '.join([str(i) for i in row]))"
   ]
  }
 ],
 "metadata": {
  "kernelspec": {
   "display_name": "Python 3",
   "language": "python",
   "name": "python3"
  },
  "language_info": {
   "codemirror_mode": {
    "name": "ipython",
    "version": 3
   },
   "file_extension": ".py",
   "mimetype": "text/x-python",
   "name": "python",
   "nbconvert_exporter": "python",
   "pygments_lexer": "ipython3",
   "version": "3.6.5"
  }
 },
 "nbformat": 4,
 "nbformat_minor": 2
}
