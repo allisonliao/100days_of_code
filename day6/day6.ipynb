{
 "cells": [
  {
   "cell_type": "markdown",
   "metadata": {},
   "source": [
    "# Day 6, 4.13.18"
   ]
  },
  {
   "cell_type": "markdown",
   "metadata": {},
   "source": [
    "Today, I worked on strings. I used snakify.org to learn things like fin(), rfind(), replace(), and count(). I also learned about the immutability of strings."
   ]
  },
  {
   "cell_type": "markdown",
   "metadata": {},
   "source": [
    "I finished the fifth lesson of twelve problems."
   ]
  },
  {
   "cell_type": "markdown",
   "metadata": {},
   "source": [
    "Here are a few:"
   ]
  },
  {
   "cell_type": "markdown",
   "metadata": {},
   "source": [
    "the second occurance"
   ]
  },
  {
   "cell_type": "code",
   "execution_count": 1,
   "metadata": {},
   "outputs": [
    {
     "name": "stdout",
     "output_type": "stream",
     "text": [
      "coffee\n",
      "3\n"
     ]
    }
   ],
   "source": [
    "s = input()\n",
    "c = s.count('f')\n",
    "if c == 0:\n",
    "    print(\"-2\")\n",
    "if c == 1:\n",
    "    print(\"-1\")\n",
    "if c >= 2:\n",
    "    print(s.find('f', s.find('f') + 1))"
   ]
  },
  {
   "cell_type": "markdown",
   "metadata": {},
   "source": [
    "remove the fragment"
   ]
  },
  {
   "cell_type": "code",
   "execution_count": 2,
   "metadata": {},
   "outputs": [
    {
     "name": "stdout",
     "output_type": "stream",
     "text": [
      "In the hole in the ground there lived a hobbit\n",
      "In tobbit\n"
     ]
    }
   ],
   "source": [
    "s = input()\n",
    "l = s.rfind('h')\n",
    "print(s[0:s.find('h')] + s[s.find('h',l)+1:len(s)])"
   ]
  },
  {
   "cell_type": "markdown",
   "metadata": {},
   "source": [
    "reverse the fragment"
   ]
  },
  {
   "cell_type": "code",
   "execution_count": 3,
   "metadata": {},
   "outputs": [
    {
     "name": "stdout",
     "output_type": "stream",
     "text": [
      "In the hole in the ground there lived a hobbit\n",
      "In th a devil ereht dnuorg eht ni eloh ehobbit\n"
     ]
    }
   ],
   "source": [
    "s = input()\n",
    "l = s.rfind('h')\n",
    "print(s[0:s.find('h')] + (s[s.find('h'):s.find('h', l) + 1])[::-1] + s[s.find('h', l) + 1:len(s)])"
   ]
  },
  {
   "cell_type": "markdown",
   "metadata": {},
   "source": [
    "replace within a fragment"
   ]
  },
  {
   "cell_type": "code",
   "execution_count": 4,
   "metadata": {},
   "outputs": [
    {
     "name": "stdout",
     "output_type": "stream",
     "text": [
      "In the hole in the ground there lived a hobbit\n",
      "In the Hole in tHe ground tHere lived a hobbit\n"
     ]
    }
   ],
   "source": [
    "s = input()\n",
    "f = s.find('h')\n",
    "f1 = s.rfind('h')\n",
    "s1 = s[f+1:f1].replace('h', 'H')\n",
    "s2 = s[0:f+1]\n",
    "s3 = s[f1:]\n",
    "print(s2 + s1 + s3)"
   ]
  },
  {
   "cell_type": "markdown",
   "metadata": {},
   "source": [
    "delete every third character"
   ]
  },
  {
   "cell_type": "code",
   "execution_count": 5,
   "metadata": {},
   "outputs": [
    {
     "name": "stdout",
     "output_type": "stream",
     "text": [
      "python\n",
      "yton\n"
     ]
    }
   ],
   "source": [
    "s = input()\n",
    "l = len(s)\n",
    "s1 = ''\n",
    "for i in range(l):\n",
    "    if(i % 3 != 0):\n",
    "        s1 = s1 + s[i]\n",
    "        \n",
    "print(s1)"
   ]
  }
 ],
 "metadata": {
  "kernelspec": {
   "display_name": "Python 3",
   "language": "python",
   "name": "python3"
  },
  "language_info": {
   "codemirror_mode": {
    "name": "ipython",
    "version": 3
   },
   "file_extension": ".py",
   "mimetype": "text/x-python",
   "name": "python",
   "nbconvert_exporter": "python",
   "pygments_lexer": "ipython3",
   "version": "3.6.5"
  }
 },
 "nbformat": 4,
 "nbformat_minor": 2
}
