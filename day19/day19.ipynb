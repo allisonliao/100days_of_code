{
 "cells": [
  {
   "cell_type": "markdown",
   "metadata": {},
   "source": [
    "# Day 19, 4.26.18"
   ]
  },
  {
   "cell_type": "markdown",
   "metadata": {},
   "source": [
    "Today, I finished the snakify.org unit on functions and recursion:"
   ]
  },
  {
   "cell_type": "markdown",
   "metadata": {},
   "source": [
    "Uppercase:"
   ]
  },
  {
   "cell_type": "markdown",
   "metadata": {},
   "source": [
    "Write a function \"capitalize(lower_case_word)\" that takes the lower case word and returns the word with the first letter capitalized. Eg., \"print(capitalize('word'))\" should print the word \"Word\".\n",
    "Then, given a line of lowercase ASCII words (text separated by a single space), print it with the first letter of each word capitalized using the your own function \"capitalize()\".\n",
    "\n",
    "In Python there is a function \"ord(character)\", which returns character code in the ASCII chart, and the function \"chr(code)\", which returns the character itself from the ASCII code. For example, \"ord('a') == 97\", \"chr(97) == 'a'\"."
   ]
  },
  {
   "cell_type": "code",
   "execution_count": 1,
   "metadata": {},
   "outputs": [
    {
     "name": "stdout",
     "output_type": "stream",
     "text": [
      "harry potter\n",
      "Harry Potter\n"
     ]
    }
   ],
   "source": [
    "def upp(word):\n",
    "    return chr(ord(word[0]) + ord('A') - ord('a')) + word[1:]\n",
    "    \n",
    "s = [str(s) for s in input().split()]\n",
    "for i in range(len(s)):\n",
    "    s[i] = upp(s[i])\n",
    "print(' '.join([str(i) for i in s]))"
   ]
  },
  {
   "cell_type": "markdown",
   "metadata": {},
   "source": [
    "Exponentiation:"
   ]
  },
  {
   "cell_type": "markdown",
   "metadata": {},
   "source": [
    "Given a positive real number a and a non-negative integer n. Calculate an without using loops, ** operator or the built in function \"math.pow()\". Instead, use recursion and the relation an=a⋅an−1. Print the result.\n",
    "Form the function \"power(a, n)\"."
   ]
  },
  {
   "cell_type": "code",
   "execution_count": 2,
   "metadata": {},
   "outputs": [
    {
     "name": "stdout",
     "output_type": "stream",
     "text": [
      "2\n",
      "3\n",
      "8.0\n"
     ]
    }
   ],
   "source": [
    "def exp(a, n):\n",
    "    if n == 0:\n",
    "        return 1\n",
    "    else:\n",
    "        return a * exp(a, n - 1)\n",
    "\n",
    "print(exp(float(input()), int(input())))"
   ]
  },
  {
   "cell_type": "markdown",
   "metadata": {},
   "source": [
    "Reverse the Sequence:"
   ]
  },
  {
   "cell_type": "markdown",
   "metadata": {},
   "source": [
    "Given a sequence of integers that end with a 0. Print the sequence in reverse order.\n",
    "Don't use lists or other data structures. Use the force of recursion instead."
   ]
  },
  {
   "cell_type": "code",
   "execution_count": 3,
   "metadata": {},
   "outputs": [
    {
     "name": "stdout",
     "output_type": "stream",
     "text": [
      "1\n",
      "2\n",
      "3\n",
      "0\n",
      "0\n",
      "3\n",
      "2\n",
      "1\n"
     ]
    }
   ],
   "source": [
    "def reverse():\n",
    "    x = int(input())\n",
    "    if x != 0:\n",
    "        reverse()\n",
    "    print(x)\n",
    "\n",
    "reverse()"
   ]
  },
  {
   "cell_type": "markdown",
   "metadata": {},
   "source": [
    "Fibonacci Numbers:"
   ]
  },
  {
   "cell_type": "markdown",
   "metadata": {},
   "source": [
    "Given a non-negative integer n, print the nth Fibonacci number. Do this by writing a function \"fib(n)\" which takes the non-negative integer n and returns the nth Fibonacci number.\n",
    "Don't use loops, use the flair of recursion instead. However, you should think about why the recursive method is much slower than using loops."
   ]
  },
  {
   "cell_type": "code",
   "execution_count": 5,
   "metadata": {},
   "outputs": [
    {
     "name": "stdout",
     "output_type": "stream",
     "text": [
      "6\n",
      "8\n"
     ]
    }
   ],
   "source": [
    "def fib(n):\n",
    "    if n == 1 or n == 2:\n",
    "        return 1\n",
    "    else:\n",
    "        return fib(n - 1) + fib(n - 2)\n",
    "\n",
    "print(fib(int(input())))"
   ]
  }
 ],
 "metadata": {
  "kernelspec": {
   "display_name": "Python 3",
   "language": "python",
   "name": "python3"
  },
  "language_info": {
   "codemirror_mode": {
    "name": "ipython",
    "version": 3
   },
   "file_extension": ".py",
   "mimetype": "text/x-python",
   "name": "python",
   "nbconvert_exporter": "python",
   "pygments_lexer": "ipython3",
   "version": "3.6.5"
  }
 },
 "nbformat": 4,
 "nbformat_minor": 2
}
