{
 "cells": [
  {
   "cell_type": "markdown",
   "metadata": {},
   "source": [
    "# Day 12, 4.19.18"
   ]
  },
  {
   "cell_type": "markdown",
   "metadata": {},
   "source": [
    "Today, I worked on more while loop problems on snakify.org."
   ]
  },
  {
   "cell_type": "markdown",
   "metadata": {},
   "source": [
    "The number of elements that are greater than the previous one:"
   ]
  },
  {
   "cell_type": "code",
   "execution_count": 1,
   "metadata": {},
   "outputs": [
    {
     "name": "stdout",
     "output_type": "stream",
     "text": [
      "1\n",
      "7\n",
      "9\n",
      "0\n",
      "2\n"
     ]
    }
   ],
   "source": [
    "c = 0\n",
    "b = int(input())\n",
    "a = b\n",
    "while b != 0:\n",
    "    if b > a:\n",
    "       c += 1\n",
    "    a = b\n",
    "    b = int(input())\n",
    "print(c)"
   ]
  },
  {
   "cell_type": "markdown",
   "metadata": {},
   "source": [
    "The second maximum:"
   ]
  },
  {
   "cell_type": "code",
   "execution_count": 2,
   "metadata": {},
   "outputs": [
    {
     "name": "stdout",
     "output_type": "stream",
     "text": [
      "1\n",
      "7\n",
      "9\n",
      "0\n",
      "7\n"
     ]
    }
   ],
   "source": [
    "max_2 = -1\n",
    "a = int(input())\n",
    "max = 0\n",
    "while a != 0:\n",
    "    if a > max:\n",
    "        max_2 = max\n",
    "        max = a\n",
    "    elif a > max_2:\n",
    "        max_2 = a\n",
    "    a = int(input())\n",
    "print(max_2)"
   ]
  },
  {
   "cell_type": "markdown",
   "metadata": {},
   "source": [
    "The number of elements equal to the minimum:"
   ]
  },
  {
   "cell_type": "code",
   "execution_count": 3,
   "metadata": {},
   "outputs": [
    {
     "name": "stdout",
     "output_type": "stream",
     "text": [
      "1\n",
      "7\n",
      "9\n",
      "0\n",
      "1\n"
     ]
    }
   ],
   "source": [
    "max = 0\n",
    "с = 1\n",
    "a = int(input())\n",
    "while a != 0:\n",
    "    if a > max:\n",
    "        max = a\n",
    "        с = 1\n",
    "    elif a == max:\n",
    "        с += 1\n",
    "    a = int(input())\n",
    "print(с)"
   ]
  },
  {
   "cell_type": "markdown",
   "metadata": {},
   "source": [
    "Finding a fibonacci number:"
   ]
  },
  {
   "cell_type": "code",
   "execution_count": 4,
   "metadata": {},
   "outputs": [
    {
     "name": "stdout",
     "output_type": "stream",
     "text": [
      "6\n",
      "8\n"
     ]
    }
   ],
   "source": [
    "n = int(input())\n",
    "fi1 = 0\n",
    "fi2 = 1\n",
    "if n < 1:\n",
    "    print(0)\n",
    "elif n == 1:\n",
    "    print(1)\n",
    "else:\n",
    "    i = 2\n",
    "    while i <= n:\n",
    "        fi2, fi1 = fi1 + fi2, fi2\n",
    "        i += 1\n",
    "    print(fi2)"
   ]
  },
  {
   "cell_type": "markdown",
   "metadata": {},
   "source": [
    "The index of a fibonacci number:"
   ]
  },
  {
   "cell_type": "code",
   "execution_count": 5,
   "metadata": {},
   "outputs": [
    {
     "name": "stdout",
     "output_type": "stream",
     "text": [
      "8\n",
      "6\n"
     ]
    }
   ],
   "source": [
    "A = int(input())\n",
    "fi1 = 0\n",
    "fi2 = 1\n",
    "if A == 1:\n",
    "    print(1)\n",
    "else:\n",
    "    i = 1\n",
    "    while A > fi2:\n",
    "        fi2, fi1 = fi1 + fi2, fi2\n",
    "        i += 1\n",
    "    if A == fi2:\n",
    "        print(i)\n",
    "    else:\n",
    "        print(-1)"
   ]
  },
  {
   "cell_type": "markdown",
   "metadata": {},
   "source": [
    "The maximum number of consecutive equal numbers:"
   ]
  },
  {
   "cell_type": "code",
   "execution_count": 6,
   "metadata": {},
   "outputs": [
    {
     "name": "stdout",
     "output_type": "stream",
     "text": [
      "1\n",
      "7\n",
      "7\n",
      "9\n",
      "1\n",
      "0\n",
      "2\n"
     ]
    }
   ],
   "source": [
    "x = 1\n",
    "max = 1\n",
    "a = int(input())\n",
    "b = a\n",
    "while b != 0:\n",
    "    b, a = int(input()), b\n",
    "    if b == a:\n",
    "        x += 1\n",
    "    else:\n",
    "        if x > max:\n",
    "            max = x\n",
    "        x = 1\n",
    "print(max)"
   ]
  }
 ],
 "metadata": {
  "kernelspec": {
   "display_name": "Python 3",
   "language": "python",
   "name": "python3"
  },
  "language_info": {
   "codemirror_mode": {
    "name": "ipython",
    "version": 3
   },
   "file_extension": ".py",
   "mimetype": "text/x-python",
   "name": "python",
   "nbconvert_exporter": "python",
   "pygments_lexer": "ipython3",
   "version": "3.6.5"
  }
 },
 "nbformat": 4,
 "nbformat_minor": 2
}
