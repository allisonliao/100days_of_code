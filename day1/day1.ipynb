{
 "cells": [
  {
   "cell_type": "markdown",
   "metadata": {},
   "source": [
    "# DAY 1, 4.8.18"
   ]
  },
  {
   "cell_type": "markdown",
   "metadata": {},
   "source": [
    "Today, I learned how to escape characters in strings and how to use git and github."
   ]
  },
  {
   "cell_type": "markdown",
   "metadata": {},
   "source": [
    "I reviewed loops:"
   ]
  },
  {
   "cell_type": "code",
   "execution_count": 4,
   "metadata": {
    "scrolled": true
   },
   "outputs": [
    {
     "name": "stdout",
     "output_type": "stream",
     "text": [
      "*\n",
      "**\n",
      "***\n",
      "****\n"
     ]
    }
   ],
   "source": [
    "for i in range(1,5):\n",
    "    print(i * \"*\")"
   ]
  },
  {
   "cell_type": "markdown",
   "metadata": {},
   "source": [
    "created my first SSH key:"
   ]
  },
  {
   "cell_type": "markdown",
   "metadata": {},
   "source": [
    "> ssh-rsa AAAAB3NzaC1yc2EAAAADAQABAAACAQCz2cibY/VjGaPLZn3oduRKNGLCXi2488nPc/Gkss3NdMxBInIRsonE1Q1o2ctDJZOPAljyGt0P+uxkrWklHtUJp8ZfM878Y7paNmjH5bQQ0YoELz5L57nxkdPs9xMkRFkBCIyyWPOssl/vHLgULKyrqcLClgg9lsnFahU/Hwtzj9K8vvkeQ/F3gQV9x3LHoyV3sAenPHn9ohCZqQ20qj+C2OZ2KDwvBa2D0fG/VPvhOK3DdQu/iGPyVK6uVZhgW2rV8LGUHc2Yw9xzYEZ5nYekw4hxw5LR2o3kP3sALFgyF31SbzWe7s+2K1/Ww8OTJaBDCjTe/YAe15Fkp2SgYhLmu0bPnqURZBMs9tp1Z7Ja/tyoD5FmacXcLsT+GTK8bEoIbOK5FpysRes3AsA7SSdjxO8mYStlsgTHstdaIsBhiXngpdQOUD5Zgw+vRp2cJ5qsk0XjqImAVBnFh8IC4G7HQvVNsXyOH9TGnIXTK8x8crkINh1y9mPkUDxqMbgRG/jycyLp00MEKRbwnQ7TVC4i9uDCVjvdCt6kH9yEshk81obTe1EHEVUSV4OhrH7L3Qg/VcYcOHW9orhA6d6KK8iGv7+IlKBcE01St3dsQd+T329lM0Zx0iW66Q9JkQDhjGjn9QWOjzZViX9fNRbo5h8UZ2ot4An4N4tAZkoRw027ew== allison.y.liao@gmail.com"
   ]
  },
  {
   "cell_type": "markdown",
   "metadata": {},
   "source": [
    "and learned strings and slices:"
   ]
  },
  {
   "cell_type": "code",
   "execution_count": 6,
   "metadata": {},
   "outputs": [
    {
     "name": "stdout",
     "output_type": "stream",
     "text": [
      "r\n",
      "r\n",
      "Abrak\n",
      "Abrakadab\n",
      "Arkdba\n",
      "baaar\n",
      "arbadakarbA\n",
      "abdkrA\n",
      "11\n"
     ]
    }
   ],
   "source": [
    "s = \"Abrakadabra\"\n",
    "print(s[2])\n",
    "print(s[-2])\n",
    "print(s[:5])\n",
    "print(s[:-2])\n",
    "print(s[::2])\n",
    "print(s[1::2])\n",
    "print(s[::-1])\n",
    "print(s[::-2])\n",
    "print(len(s))"
   ]
  },
  {
   "cell_type": "code",
   "execution_count": null,
   "metadata": {},
   "outputs": [],
   "source": []
  }
 ],
 "metadata": {
  "kernelspec": {
   "display_name": "Python 3",
   "language": "python",
   "name": "python3"
  },
  "language_info": {
   "codemirror_mode": {
    "name": "ipython",
    "version": 3
   },
   "file_extension": ".py",
   "mimetype": "text/x-python",
   "name": "python",
   "nbconvert_exporter": "python",
   "pygments_lexer": "ipython3",
   "version": "3.6.5"
  }
 },
 "nbformat": 4,
 "nbformat_minor": 2
}
