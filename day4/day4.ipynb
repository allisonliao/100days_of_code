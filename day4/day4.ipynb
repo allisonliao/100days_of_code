{
 "cells": [
  {
   "cell_type": "markdown",
   "metadata": {},
   "source": [
    "# Day 4, 4.11.18"
   ]
  },
  {
   "cell_type": "markdown",
   "metadata": {},
   "source": [
    "Today, I worked on building my first real project: a \"state\" game (aka, a text-based adventure)."
   ]
  },
  {
   "cell_type": "markdown",
   "metadata": {},
   "source": [
    "While the majority of the programming has been completed, time is running short, and I have decided to finish writing in data and smoothing out the kinks in day5."
   ]
  },
  {
   "cell_type": "markdown",
   "metadata": {},
   "source": [
    "Attached is the first outcome.."
   ]
  },
  {
   "cell_type": "raw",
   "metadata": {},
   "source": [
    "You are in a room. There are doors leading to the north, east, and west. The south wall opens into a staircase. What do you do? (north/east/south/west)\n",
    "> x\n",
    "Don't know what you talkin' about\n",
    "You are in a room. There are doors leading to the north, east, and west. The south wall opens into a staircase. What do you do? (north/east/south/west)\n",
    "> gotofin\n",
    "You're done. Yay."
   ]
  }
 ],
 "metadata": {
  "kernelspec": {
   "display_name": "Python 3",
   "language": "python",
   "name": "python3"
  },
  "language_info": {
   "codemirror_mode": {
    "name": "ipython",
    "version": 3
   },
   "file_extension": ".py",
   "mimetype": "text/x-python",
   "name": "python",
   "nbconvert_exporter": "python",
   "pygments_lexer": "ipython3",
   "version": "3.6.5"
  }
 },
 "nbformat": 4,
 "nbformat_minor": 2
}
