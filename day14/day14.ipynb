{
 "cells": [
  {
   "cell_type": "markdown",
   "metadata": {},
   "source": [
    "# Day 14, 4.21.18"
   ]
  },
  {
   "cell_type": "markdown",
   "metadata": {},
   "source": [
    "Today, I worked on more snakify.org problems:"
   ]
  },
  {
   "cell_type": "markdown",
   "metadata": {},
   "source": [
    "The largest element:"
   ]
  },
  {
   "cell_type": "code",
   "execution_count": 1,
   "metadata": {},
   "outputs": [
    {
     "name": "stdout",
     "output_type": "stream",
     "text": [
      "1 2 3 2 1\n",
      "3 2 "
     ]
    }
   ],
   "source": [
    "a = [int(s) for s in input().split()]\n",
    "max = a[0]\n",
    "max_i = 0\n",
    "for i in range(1, len(a)):\n",
    "    if a[i] > max:\n",
    "        max_i = i\n",
    "        max = a[i]\n",
    "print(max, max_i, end=' ')"
   ]
  },
  {
   "cell_type": "markdown",
   "metadata": {},
   "source": [
    "The number of distinct elements:"
   ]
  },
  {
   "cell_type": "code",
   "execution_count": 2,
   "metadata": {},
   "outputs": [
    {
     "name": "stdout",
     "output_type": "stream",
     "text": [
      "1 2 2 3 3 3\n",
      "3\n"
     ]
    }
   ],
   "source": [
    "a = [int(i) for i in input().split()]\n",
    "num = 1\n",
    "for i in range(1,len(a)):\n",
    "    if a[i] > a[i-1]:\n",
    "        num += 1\n",
    "print(num)"
   ]
  },
  {
   "cell_type": "markdown",
   "metadata": {},
   "source": [
    "Swap neighbors:"
   ]
  },
  {
   "cell_type": "code",
   "execution_count": 3,
   "metadata": {},
   "outputs": [
    {
     "name": "stdout",
     "output_type": "stream",
     "text": [
      "1 2 3 4 5\n",
      "2 1 4 3 5\n"
     ]
    }
   ],
   "source": [
    "a = [int(i) for i in input().split()]\n",
    "for i in range(0,len(a)-1,2):\n",
    "    a[i], a[i+1] = a[i+1], a[i]\n",
    "print(' '.join([str(i) for i in a]))"
   ]
  },
  {
   "cell_type": "markdown",
   "metadata": {},
   "source": [
    "Swap min and max:"
   ]
  },
  {
   "cell_type": "code",
   "execution_count": 4,
   "metadata": {},
   "outputs": [
    {
     "name": "stdout",
     "output_type": "stream",
     "text": [
      "3 4 5 2 1\n",
      "3 4 1 2 5\n"
     ]
    }
   ],
   "source": [
    "max = 0\n",
    "min = 0\n",
    "a = [int(i) for i in input().split()]\n",
    "for i in range(1, len(a)):\n",
    "    if a[i] > a[max]:\n",
    "        max = i\n",
    "    if a[i] < a[min]:\n",
    "        min = i\n",
    "a[max], a[min] = a[min], a[max]\n",
    "print(' '.join([str(i) for i in a]))"
   ]
  },
  {
   "cell_type": "markdown",
   "metadata": {},
   "source": [
    "The number of pairs of equal:"
   ]
  },
  {
   "cell_type": "code",
   "execution_count": 5,
   "metadata": {},
   "outputs": [
    {
     "name": "stdout",
     "output_type": "stream",
     "text": [
      "1 2 3 2 3\n",
      "2\n"
     ]
    }
   ],
   "source": [
    "a = [int(s) for s in input().split()]\n",
    "counter = 0\n",
    "for i in range(len(a)):\n",
    "    for j in range(i + 1, len(a)):\n",
    "        if a[i] == a[j]:\n",
    "            counter += 1\n",
    "print(counter)"
   ]
  },
  {
   "cell_type": "markdown",
   "metadata": {},
   "source": [
    "Unique elements:"
   ]
  },
  {
   "cell_type": "code",
   "execution_count": 6,
   "metadata": {},
   "outputs": [
    {
     "name": "stdout",
     "output_type": "stream",
     "text": [
      "1 2 2 3 3 3\n",
      "1\n"
     ]
    }
   ],
   "source": [
    "a = [int(s) for s in input().split()]\n",
    "uniqs = []\n",
    "for elem in a:\n",
    "    if a.count(elem) == 1:\n",
    "        uniqs.append(elem)\n",
    "print(' '.join([str(i) for i in uniqs]))"
   ]
  },
  {
   "cell_type": "markdown",
   "metadata": {},
   "source": [
    "Queens:"
   ]
  },
  {
   "cell_type": "markdown",
   "metadata": {},
   "source": [
    "Statement:\n",
    "In chess it is known that it is possible to place 8 queens on an 8×8 chess board such that none of them can attack another. Given a placement of 8 queens on the board, determine if there is a pair of queens that can attach each other on the next move. Print the word NO if no queen can attack another, otherwise print YES. The input consists of eight coordinate pairs, one pair per line, with each pair giving the position of a queen on a standard chess board with rows and columns numbered starting at 1."
   ]
  },
  {
   "cell_type": "code",
   "execution_count": 7,
   "metadata": {},
   "outputs": [
    {
     "name": "stdout",
     "output_type": "stream",
     "text": [
      "1 7\n",
      "2 4\n",
      "3 2\n",
      "4 8\n",
      "5 6\n",
      "6 1\n",
      "7 3\n",
      "8 5\n",
      "NO\n"
     ]
    }
   ],
   "source": [
    "N = 8\n",
    "result = 'NO'\n",
    "x = [0] * N\n",
    "y = [0] * N\n",
    "for i in range(N):\n",
    "    x[i], y[i] = [int(j)for j in input().split()]\n",
    "for i in range (N):\n",
    "    for j in range(i+1,N):\n",
    "        if x[i] == x[j] or y[i] == y[j] or abs(x[i] - x[j]) == abs(y[i] - y[j]):\n",
    "            result = 'YES'\n",
    "print(result)"
   ]
  },
  {
   "cell_type": "markdown",
   "metadata": {},
   "source": [
    "The bowling alley:"
   ]
  },
  {
   "cell_type": "markdown",
   "metadata": {},
   "source": [
    "Statement:\n",
    "In bowling, the player starts wtih 10 pins at the far end of a lane. The object is to knock all the pins down. For this exercise, the number of pins and balls will vary. Given the number of pins N and then the number of balls K to be rolled, followed by K pairs of numbers (one for each ball rolled), determine which pins remain standing after all the balls have been rolled. The balls are numbered from 1 to N (inclusive) for this situation. The subsequent number pairs, one for each K represent the start to stop (inclusive) positions of the pins that were knocked down with each role. Print a sequence of N characters, where \"I\" represents a pin left standing and \".\" represents a pin knocked down."
   ]
  },
  {
   "cell_type": "code",
   "execution_count": 8,
   "metadata": {},
   "outputs": [
    {
     "name": "stdout",
     "output_type": "stream",
     "text": [
      "10 3\n",
      "8 10\n",
      "2 5\n",
      "3 6\n",
      "I.....I...\n"
     ]
    }
   ],
   "source": [
    "N, K = [int(i) for i in input().split()]\n",
    "pins = ['I'] * N\n",
    "for j in range(K):\n",
    "    l, r = [int(i) for i in input().split()]\n",
    "    pins[l-1:r] = ['.'] * (r-l+1)\n",
    "print(''.join([str(i) for i in pins]))"
   ]
  }
 ],
 "metadata": {
  "kernelspec": {
   "display_name": "Python 3",
   "language": "python",
   "name": "python3"
  },
  "language_info": {
   "codemirror_mode": {
    "name": "ipython",
    "version": 3
   },
   "file_extension": ".py",
   "mimetype": "text/x-python",
   "name": "python",
   "nbconvert_exporter": "python",
   "pygments_lexer": "ipython3",
   "version": "3.6.5"
  }
 },
 "nbformat": 4,
 "nbformat_minor": 2
}
